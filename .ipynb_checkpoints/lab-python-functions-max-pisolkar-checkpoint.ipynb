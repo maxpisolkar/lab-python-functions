{
 "cells": [
  {
   "cell_type": "code",
   "execution_count": 36,
   "id": "083ecb10-b75c-425c-b02f-7ca2521478d7",
   "metadata": {},
   "outputs": [],
   "source": [
    "products = [\"t-shirt\", \"mug\", \"hat\", \"book\", \"keychain\"]\n"
   ]
  },
  {
   "cell_type": "code",
   "execution_count": null,
   "id": "b2b8513a-0b04-451d-bdde-9853c06e38de",
   "metadata": {},
   "outputs": [],
   "source": [
    "# Global list of products\n",
    "products = [\"apple\", \"banana\", \"orange\", \"bread\", \"milk\"]\n",
    "\n",
    "def initialize_inventory(products):\n",
    "    inventory = {}\n",
    "    for product in products:\n",
    "        quantity = int(input(f\"Enter quantity for {product}: \"))\n",
    "        inventory[product] = quantity\n",
    "    return(inventory)\n",
    "\n",
    "def get_customer_orders():\n",
    "    customer_orders=set()\n",
    "    answer = input(f\"Would you like to add an item? (Yes or No)\").strip().lower()\n",
    "    while answer == \"yes\":\n",
    "        name = str(input(f\"Enter name of item:\")).strip().lower()\n",
    "        if name in products:\n",
    "            customer_orders.add(name)\n",
    "        else:\n",
    "            print(\"Item not in stock, please choose another.\")\n",
    "        answer = input(\"Would you like to add another item? (Yes or No): \").strip().lower()\n",
    "    else:print(\"Thank you for visiting the shop :)\")\n",
    "    print(\"The items you want to order are: \" + \", \".join(customer_orders))\n",
    "    return customer_orders\n",
    "\n",
    "def update_inventory(customer_orders, inventory):\n",
    "    for item in customer_orders:\n",
    "        if item in inventory:\n",
    "            inventory[item] -= 1\n",
    "            print(f\"{item} inventory updated. Remaining: {inventory[item]}\")\n",
    "        else:\n",
    "            print(f\"{item} is not found in the inventory.\")\n",
    "    return inventory\n",
    "\n",
    "def calculate_order_statistics (customer_orders, products):\n",
    "    total_number_products= len(customer_orders)\n",
    "    percentage_ordered = (total_number_products / len(products)) * 100\n",
    "    return total_number_products, percentage_ordered\n",
    "\n",
    "def print_order_statistics(order_stats):\n",
    "    print(f\"Total number of products ordered: {order_stats[0]}\")\n",
    "    print(f\"Total number of unique products ordered: {order_stats[0]}\")\n",
    "\n",
    "def print_updated_inventory(inventory):\n",
    "    print(\"Updated Inventory:\")\n",
    "    for item, qty in inventory.items():\n",
    "        print(f\"{item}: {qty}\")\n",
    "\n",
    "inventory = initialize_inventory(products)\n",
    "customer_orders = get_customer_orders()\n",
    "updated_inventory = update_inventory(customer_orders, inventory)\n",
    "order_stats = calculate_order_statistics(customer_orders, products)\n",
    "    \n",
    "print_order_statistics(order_stats)\n",
    "print_updated_inventory(updated_inventory)\n",
    "    "
   ]
  },
  {
   "cell_type": "code",
   "execution_count": null,
   "id": "25e9bd35-a51a-4090-be8b-cb09a62a46dd",
   "metadata": {},
   "outputs": [],
   "source": []
  },
  {
   "cell_type": "code",
   "execution_count": null,
   "id": "1528a688-452b-4cc2-afd7-b5042b8dfda7",
   "metadata": {},
   "outputs": [],
   "source": []
  }
 ],
 "metadata": {
  "kernelspec": {
   "display_name": "Python [conda env:base] *",
   "language": "python",
   "name": "conda-base-py"
  },
  "language_info": {
   "codemirror_mode": {
    "name": "ipython",
    "version": 3
   },
   "file_extension": ".py",
   "mimetype": "text/x-python",
   "name": "python",
   "nbconvert_exporter": "python",
   "pygments_lexer": "ipython3",
   "version": "3.12.7"
  }
 },
 "nbformat": 4,
 "nbformat_minor": 5
}
